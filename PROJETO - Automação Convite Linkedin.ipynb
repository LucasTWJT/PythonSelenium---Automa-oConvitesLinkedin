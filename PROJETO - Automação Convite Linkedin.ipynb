{
 "cells": [
  {
   "cell_type": "markdown",
   "id": "4fe78ccb",
   "metadata": {},
   "source": [
    "# Automação Selenium - convite com mensagem no Linkedin\n",
    "----\n",
    "Pensando em estudar automação web e buscar uma forma de facilitar o envio de solicitações de conexão no Linkedin, resolvi criar esse scrip utilizando a biblioteca Selenium que não só automatiza uma série de etapas da busca por novas conexões, mas como possibilita enviar inúmeras solicitações em um curto espaço de tempo.\n",
    "\n"
   ]
  },
  {
   "cell_type": "code",
   "execution_count": 1,
   "id": "5776736f",
   "metadata": {},
   "outputs": [
    {
     "name": "stdout",
     "output_type": "stream",
     "text": [
      "\n"
     ]
    },
    {
     "name": "stderr",
     "output_type": "stream",
     "text": [
      "[WDM] - ====== WebDriver manager ======\n"
     ]
    },
    {
     "name": "stdout",
     "output_type": "stream",
     "text": [
      "2022-08-06 16:45:02,125 INFO ====== WebDriver manager ======\n"
     ]
    },
    {
     "name": "stderr",
     "output_type": "stream",
     "text": [
      "[WDM] - Current google-chrome version is 103.0.5060\n"
     ]
    },
    {
     "name": "stdout",
     "output_type": "stream",
     "text": [
      "2022-08-06 16:45:02,131 INFO Current google-chrome version is 103.0.5060\n"
     ]
    },
    {
     "name": "stderr",
     "output_type": "stream",
     "text": [
      "[WDM] - Get LATEST chromedriver version for 103.0.5060 google-chrome\n"
     ]
    },
    {
     "name": "stdout",
     "output_type": "stream",
     "text": [
      "2022-08-06 16:45:02,133 INFO Get LATEST chromedriver version for 103.0.5060 google-chrome\n"
     ]
    },
    {
     "name": "stderr",
     "output_type": "stream",
     "text": [
      "[WDM] - Driver [C:\\Users\\Client\\.wdm\\drivers\\chromedriver\\win32\\103.0.5060.134\\chromedriver.exe] found in cache\n"
     ]
    },
    {
     "name": "stdout",
     "output_type": "stream",
     "text": [
      "2022-08-06 16:45:02,370 INFO Driver [C:\\Users\\Client\\.wdm\\drivers\\chromedriver\\win32\\103.0.5060.134\\chromedriver.exe] found in cache\n"
     ]
    }
   ],
   "source": [
    "from selenium import webdriver\n",
    "from selenium.webdriver.chrome.service import Service\n",
    "from webdriver_manager.chrome import ChromeDriverManager\n",
    "from selenium.webdriver.common.by import By\n",
    "from selenium.webdriver.common.keys import Keys\n",
    "from selenium.webdriver import ActionChains\n",
    "import time\n",
    "\n",
    "# atualizando o webdriver do Google Chrome\n",
    "servico = Service(ChromeDriverManager().install())\n",
    "\n",
    "# selecionando/criando perfil do selenium dentro do computador\n",
    "options = webdriver.ChromeOptions()\n",
    "options.add_argument(r'user-data-dir=C:\\Users\\Client\\AppData\\Local\\Temp\\scoped_dir12640_2030587547\\Profile Selenium')\n",
    "\n",
    "# criando o navegador automatizado do Chrome\n",
    "navegador = webdriver.Chrome(service=servico, options=options)\n",
    "navegador.maximize_window()"
   ]
  },
  {
   "cell_type": "markdown",
   "id": "c4a5b6b0",
   "metadata": {},
   "source": [
    "Como estou conectado ao meu perfil criado para o selenium, só preciso fazer login com email e senha uma vez, de resto ele já abre diretamente.\n",
    "O código utlizado para realizar o login está abaixo."
   ]
  },
  {
   "cell_type": "raw",
   "id": "f114fc70",
   "metadata": {},
   "source": [
    "# escrevendo o email\n",
    "navegador.find_element(By.XPATH, '//*[@id=\"username\"]').send_keys('email@email.com')\n",
    "\n",
    "# escrevendo a senha\n",
    "navegador.find_element(By.XPATH, '//*[@id=\"password\"]').send_keys('senha')\n",
    "\n",
    "# clicando no botão de login\n",
    "navegador.find_element(By.XPATH, '//*[@id=\"organic-div\"]/form/div[3]/button').click()"
   ]
  },
  {
   "cell_type": "code",
   "execution_count": 2,
   "id": "0b311d03",
   "metadata": {
    "scrolled": true
   },
   "outputs": [
    {
     "name": "stdout",
     "output_type": "stream",
     "text": [
      "Número de convites a enviar: 12\n",
      "Palavra-chave a pesquisar: data scientist\n",
      "12 convites enviados para pessoas relacionadas com data scientist.\n"
     ]
    }
   ],
   "source": [
    "# quantidade de convites requisitados\n",
    "n_convites = int(input('Número de convites a enviar: '))\n",
    "pesquisa = str(input('Palavra-chave a pesquisar: '))\n",
    "time.sleep(1)\n",
    "\n",
    "time.sleep(1)\n",
    "\n",
    "# entrando no site do linkedin - já logado na conta\n",
    "navegador.get(r'https://www.linkedin.com')\n",
    "time.sleep(2)\n",
    "\n",
    "# digitando na barra de busca e pesquisando\n",
    "navegador.find_element(By.XPATH, '//*[@id=\"global-nav-typeahead\"]/input').send_keys(pesquisa, Keys.ENTER)\n",
    "time.sleep(4)\n",
    "\n",
    "# seleção do filtro \"Pessoas\" para aprecer somente pessoas\n",
    "filtro = navegador.find_elements(By.CLASS_NAME, 'artdeco-pill--2')\n",
    "list(filter(lambda filtro: filtro.text == 'Pessoas', filtro))[0].click()\n",
    "time.sleep(3)\n",
    "\n",
    "# contador de convites enviados\n",
    "cont_convites = 0\n",
    "\n",
    "# loop while para avançar as páginas de pesquisa, com range de 10 o scrip enviará cerca de 100 convite\n",
    "while cont_convites <= n_convites:\n",
    "    try:\n",
    "        # lista de possíveis conexões para enviar convite e percorrendo essa lista\n",
    "        conexoes = navegador.find_elements(By.CLASS_NAME, 'reusable-search__result-container ')\n",
    "        for conexao in conexoes:\n",
    "            if cont_convites >= n_convites:\n",
    "                break\n",
    "            else:\n",
    "                # selecionando o nome da conexão\n",
    "                nome = conexao.find_elements(By.CLASS_NAME, 'visually-hidden')[1].text[14:]\n",
    "\n",
    "                # selecionando botão de conectar para verificar se a pessoa permite Conectar ou apenas Seguir\n",
    "                botton = conexao.find_element(By.CLASS_NAME, 'artdeco-button')\n",
    "                if botton.text == 'Conectar':\n",
    "                    cont_convites += 1\n",
    "                    # clicando no botão Conectar\n",
    "                    botton.click()\n",
    "                    time.sleep(1)\n",
    "\n",
    "                    # clicando no botão para enviar mensagem personalizada\n",
    "                    navegador.find_element(By.CLASS_NAME, 'artdeco-button--secondary').click()\n",
    "\n",
    "                    # layout da mensagem com o nome da conexão\n",
    "                    mensagem = f'Olá, {nome}! Espero que esteja bem.', 2*Keys.ENTER,\\\n",
    "                                'Eu sou Lucas, estudante de Engenharia e Data Science.',2*Keys.ENTER,\\\n",
    "                                'Procuro conexões que se interessam na área de Data Science para trocar ',\\\n",
    "                                'experiências e enriquecer a rede. Por isso, acredito que nossa conexão pode gerar bons frutos.',\\\n",
    "                                2*Keys.ENTER, 'Att,', Keys.ENTER, 'Lucas.'\n",
    "\n",
    "                    # digitando mensagem na barra de texto\n",
    "                    navegador.find_element(By.ID, 'custom-message').send_keys(mensagem)\n",
    "                    time.sleep(1)\n",
    "\n",
    "                    # como meu objetivo não é enviar esses convites, irei clicar no botão X de fechar\n",
    "                    navegador.find_element(By.CLASS_NAME, 'artdeco-modal__dismiss').click()\n",
    "                    time.sleep(1)\n",
    "                    # para Enviar o convite, utilizar o código abaixo, só retirar a hashtag\n",
    "                    #navegador.find_element(By.CLASS_NAME, 'artdeco-button--primary').click()\n",
    "                else:\n",
    "                    continue\n",
    "        if cont_convites >= n_convites:\n",
    "            break\n",
    "        else:\n",
    "            # script que rola o scroll até o final da página\n",
    "            last_height = navegador.execute_script('return document.body.scrollHeight')\n",
    "            for contador in range(20):\n",
    "                new_height = navegador.execute_script('window.scrollTo(0, document.body.scrollHeight)')\n",
    "                if new_height == last_height:\n",
    "                    break\n",
    "\n",
    "            # avançando para próxima etapa\n",
    "            time.sleep(0.5)\n",
    "            navegador.find_element(By.CLASS_NAME, 'artdeco-pagination__button--next').click()\n",
    "            time.sleep(5)\n",
    "    except:\n",
    "        break\n",
    "\n",
    "print(f'{cont_convites} convites enviados para pessoas relacionadas com {pesquisa}.')\n",
    "navegador.quit()"
   ]
  }
 ],
 "metadata": {
  "kernelspec": {
   "display_name": "Python 3 (ipykernel)",
   "language": "python",
   "name": "python3"
  },
  "language_info": {
   "codemirror_mode": {
    "name": "ipython",
    "version": 3
   },
   "file_extension": ".py",
   "mimetype": "text/x-python",
   "name": "python",
   "nbconvert_exporter": "python",
   "pygments_lexer": "ipython3",
   "version": "3.9.12"
  }
 },
 "nbformat": 4,
 "nbformat_minor": 5
}
